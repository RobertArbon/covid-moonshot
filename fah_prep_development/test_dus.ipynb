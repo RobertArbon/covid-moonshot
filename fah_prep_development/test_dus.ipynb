{
 "cells": [
  {
   "cell_type": "code",
   "execution_count": 2,
   "id": "c10984e2-fbfb-4634-9fe3-d75e5eee8df4",
   "metadata": {},
   "outputs": [],
   "source": [
    "import prepare.receptors as rps\n",
    "from pathlib import Path\n",
    "from openeye import oespruce"
   ]
  },
  {
   "cell_type": "code",
   "execution_count": 3,
   "id": "56693a83-bd04-4074-bee2-cdbf246c16a9",
   "metadata": {},
   "outputs": [],
   "source": [
    "config = rps.PreparationConfig(input=Path('MPro/crystallographic/Mpro-P0208.pdb'), \n",
    "                              output=Path('./du_test'),reference=Path('MPro/crystallographic/Mpro-x1119.pdb'),create_dimer=True)"
   ]
  },
  {
   "cell_type": "code",
   "execution_count": 4,
   "id": "670898ae-1592-406c-939f-da5fc067ffd5",
   "metadata": {},
   "outputs": [],
   "source": [
    "lines = rps.clean_pdb(config)\n",
    "comp = rps.lines_to_mol_graph(lines)\n",
    "options = rps.set_options()\n",
    "metadata = oespruce.OEStructureMetadata()\n",
    "dus = rps.make_design_units(comp, metadata, options)\n"
   ]
  },
  {
   "cell_type": "code",
   "execution_count": 6,
   "id": "301e2916-0554-48d3-a50a-8b7f6fd2c709",
   "metadata": {},
   "outputs": [],
   "source": [
    "ds1 = rps.make_docking_system(dus[0])\n",
    "ds2 = rps.make_docking_system(dus[1])"
   ]
  },
  {
   "cell_type": "code",
   "execution_count": 7,
   "id": "1067a97b-9cc2-41d7-80a6-b77dbf7baaf8",
   "metadata": {},
   "outputs": [],
   "source": [
    "rps.write_protein(ds1.protein, paths=[Path('du_test/protein1.pdb')])\n",
    "rps.write_protein(ds2.protein, paths=[Path('du_test/protein2.pdb')])\n",
    "rps.write_molecular_graph(ds1.ligand, paths=[Path('du_test/ligand1.pdb')])\n",
    "rps.write_molecular_graph(ds2.ligand, paths=[Path('du_test/ligand2.pdb')])"
   ]
  },
  {
   "cell_type": "code",
   "execution_count": null,
   "id": "881db035-d353-4c21-ae5b-6ac4162acac4",
   "metadata": {},
   "outputs": [],
   "source": []
  }
 ],
 "metadata": {
  "kernelspec": {
   "display_name": "Python 3",
   "language": "python",
   "name": "python3"
  },
  "language_info": {
   "codemirror_mode": {
    "name": "ipython",
    "version": 3
   },
   "file_extension": ".py",
   "mimetype": "text/x-python",
   "name": "python",
   "nbconvert_exporter": "python",
   "pygments_lexer": "ipython3",
   "version": "3.8.8"
  }
 },
 "nbformat": 4,
 "nbformat_minor": 5
}

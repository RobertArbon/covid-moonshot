{
 "cells": [
  {
   "cell_type": "code",
   "execution_count": 10,
   "id": "c10984e2-fbfb-4634-9fe3-d75e5eee8df4",
   "metadata": {},
   "outputs": [],
   "source": [
    "from openeye import oespruce, oechem"
   ]
  },
  {
   "cell_type": "code",
   "execution_count": 16,
   "id": "a8e03b4b-ccee-4e3e-b214-19d4de056459",
   "metadata": {},
   "outputs": [],
   "source": [
    "errfs = oechem.oeofstream()\n",
    "oechem.OEThrow.SetOutputStream(errfs)\n",
    "oechem.OEThrow.Clear()\n",
    "oechem.OEThrow.SetLevel(oechem.OEErrorLevel_Verbose) # capture verbose error output"
   ]
  },
  {
   "cell_type": "markdown",
   "id": "148a59a5-ef00-4fbd-a748-ef11cc180dc2",
   "metadata": {},
   "source": [
    "Reading in the PDB.  P0208 is a dimer with a ligand in both chains. "
   ]
  },
  {
   "cell_type": "code",
   "execution_count": 17,
   "id": "1312adbb-f044-4e01-b4c9-2d01188e08f0",
   "metadata": {},
   "outputs": [],
   "source": [
    "pdb = 'MPro/crystallographic/Mpro-P0208.pdb'\n",
    "\n",
    "ifs = oechem.oemolistream()\n",
    "ifs.SetFlavor(oechem.OEFormat_PDB, oechem.OEIFlavor_PDB_Default | oechem.OEIFlavor_PDB_DATA | oechem.OEIFlavor_PDB_ALTLOC)  # noqa\n",
    "mol = oechem.OEGraphMol()\n",
    "\n",
    "oechem.OEReadMolecule(ifs, mol)\n",
    "\n",
    "ifs.close()"
   ]
  },
  {
   "cell_type": "markdown",
   "id": "72edfd73-9b5c-4f75-b62a-57c279cd6a74",
   "metadata": {},
   "source": [
    "Set the options for the design unit and create the metadata variable. "
   ]
  },
  {
   "cell_type": "code",
   "execution_count": 18,
   "id": "b707d9fb-0daa-4003-bd8b-04b25de57339",
   "metadata": {},
   "outputs": [],
   "source": [
    "opts = oespruce.OEMakeDesignUnitOptions()\n",
    "\n",
    "opts.GetSplitOptions().SetMinLigAtoms(7) # minimum fragment size (in heavy atoms)\n",
    "opts.GetPrepOptions().SetStrictProtonationMode(True)\n",
    "\n",
    "opts.GetPrepOptions().GetBuildOptions().SetCapNTermini(False)\n",
    "opts.GetPrepOptions().GetBuildOptions().SetCapCTermini(False)\n",
    "opts.GetPrepOptions().GetBuildOptions().SetBuildLoops(True)\n",
    "opts.GetPrepOptions().GetBuildOptions().SetBuildSidechains(True)\n",
    "\n",
    "opts.GetPrepOptions().GetBuildOptions().GetCapBuilderOptions().SetAllowTruncate(False)\n",
    "\n",
    "metadata = oespruce.OEStructureMetadata()\n"
   ]
  },
  {
   "cell_type": "markdown",
   "id": "b175b4d1-61d5-41f4-806a-0ed533519b66",
   "metadata": {},
   "source": [
    "Create the design unit"
   ]
  },
  {
   "cell_type": "code",
   "execution_count": 19,
   "id": "324794e2-99f6-42e2-b3ab-77d211387b4f",
   "metadata": {},
   "outputs": [],
   "source": [
    "dus = list(oespruce.OEMakeDesignUnits(mol, metadata, opts))"
   ]
  },
  {
   "cell_type": "code",
   "execution_count": 20,
   "id": "db7b5b70-71dc-44a7-9d2a-5bd6890c3baf",
   "metadata": {},
   "outputs": [
    {
     "name": "stdout",
     "output_type": "stream",
     "text": [
      "<openeye.oechem.oeofstream; proxy of <Swig Object of type 'OEPlatform::oeofstream *' at 0x7ffb598f2d50> >\n"
     ]
    }
   ],
   "source": [
    "print(errfs)"
   ]
  },
  {
   "cell_type": "code",
   "execution_count": 15,
   "id": "ff7b2d8b-0ef3-4f3f-8bd0-6778bf48ab91",
   "metadata": {},
   "outputs": [
    {
     "data": {
      "text/plain": [
       "0"
      ]
     },
     "execution_count": 15,
     "metadata": {},
     "output_type": "execute_result"
    }
   ],
   "source": [
    "len(dus)"
   ]
  },
  {
   "cell_type": "code",
   "execution_count": 4,
   "id": "670898ae-1592-406c-939f-da5fc067ffd5",
   "metadata": {},
   "outputs": [],
   "source": [
    "lines = rps.clean_pdb(config)\n",
    "comp = rps.lines_to_mol_graph(lines)\n",
    "options = rps.set_options()\n",
    "dus = rps.make_design_units(comp, metadata, options)\n"
   ]
  },
  {
   "cell_type": "code",
   "execution_count": 6,
   "id": "301e2916-0554-48d3-a50a-8b7f6fd2c709",
   "metadata": {},
   "outputs": [],
   "source": [
    "ds1 = rps.make_docking_system(dus[0])\n",
    "ds2 = rps.make_docking_system(dus[1])"
   ]
  },
  {
   "cell_type": "code",
   "execution_count": 7,
   "id": "1067a97b-9cc2-41d7-80a6-b77dbf7baaf8",
   "metadata": {},
   "outputs": [],
   "source": [
    "rps.write_protein(ds1.protein, paths=[Path('du_test/protein1.pdb')])\n",
    "rps.write_protein(ds2.protein, paths=[Path('du_test/protein2.pdb')])\n",
    "rps.write_molecular_graph(ds1.ligand, paths=[Path('du_test/ligand1.pdb')])\n",
    "rps.write_molecular_graph(ds2.ligand, paths=[Path('du_test/ligand2.pdb')])"
   ]
  },
  {
   "cell_type": "code",
   "execution_count": null,
   "id": "881db035-d353-4c21-ae5b-6ac4162acac4",
   "metadata": {},
   "outputs": [],
   "source": []
  }
 ],
 "metadata": {
  "kernelspec": {
   "display_name": "Python 3",
   "language": "python",
   "name": "python3"
  },
  "language_info": {
   "codemirror_mode": {
    "name": "ipython",
    "version": 3
   },
   "file_extension": ".py",
   "mimetype": "text/x-python",
   "name": "python",
   "nbconvert_exporter": "python",
   "pygments_lexer": "ipython3",
   "version": "3.8.8"
  }
 },
 "nbformat": 4,
 "nbformat_minor": 5
}

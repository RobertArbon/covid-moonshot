{
 "cells": [
  {
   "cell_type": "markdown",
   "id": "e240c5d1-b2b9-4fa0-bd02-f2e7f808e3bf",
   "metadata": {},
   "source": [
    "I have a series of protein structures (over 100) which are dimers, with ligands in both chains.  \n",
    "\n",
    "**I would like to create design units where the ligand is in 1) chain A and not chain B, 2) in chain B and not in chain A.** However, creating a design unit doesn't allow me to specify which chain the ligand resides in. \n",
    "\n",
    "If you can advise on how to do this, I will be very grateful.  \n",
    "\n",
    "\n",
    "**Failing that I would like to know which chain the ligand is in after the creation of the design unit, in a programatic fashion**. \n",
    "\n",
    "I've included the protein 'Mpro-P0208.pdb' as an example.  The site residues (which I'm defining as within 4 angstroms of the ligand) in chain A are 41, 49, 140 - 142, 144 - 145, 163 - 166, 187 - 189. Almost all those residues are the site residues for chain B.  The structure also contains alternate locations and there are therefore 2 design units created with the `OEMakeDesignUnits` function. \n",
    "\n",
    "Using the `GetSiteResidues` on each design unit gives the same residues in different chains for each design unit.  As I do not know how the ligand/chain is chosen or renamed when using the  `OEMakeDesignUnits` function, I don't know how to determin which chain the ligand is in. See code below: "
   ]
  },
  {
   "cell_type": "code",
   "execution_count": 8,
   "id": "8b980589-c5f0-4cd0-a2ae-b4fcb73e8a35",
   "metadata": {},
   "outputs": [],
   "source": [
    "from openeye import oespruce, oechem\n",
    "\n",
    "from glob import glob"
   ]
  },
  {
   "cell_type": "markdown",
   "id": "2debf6f5-2669-4d00-859d-54046c00761c",
   "metadata": {},
   "source": [
    "Make design units from PDB:"
   ]
  },
  {
   "cell_type": "code",
   "execution_count": 9,
   "id": "9837738d-651a-4ace-af3a-2c9e097fff54",
   "metadata": {},
   "outputs": [],
   "source": [
    "pdb = 'Mpro-P0208.pdb'\n",
    "\n",
    "errfs = oechem.oeosstream()\n",
    "oechem.OEThrow.SetOutputStream(errfs)\n",
    "oechem.OEThrow.Clear()\n",
    "oechem.OEThrow.SetLevel(oechem.OEErrorLevel_Verbose) # capture verbose error output\n",
    "\n",
    "ifs = oechem.oemolistream(pdb)\n",
    "ifs.SetFlavor(oechem.OEFormat_PDB, oechem.OEIFlavor_PDB_Default | oechem.OEIFlavor_PDB_DATA | oechem.OEIFlavor_PDB_ALTLOC)  # noqa\n",
    "mol = oechem.OEGraphMol()\n",
    "flag = oechem.OEReadMolecule(ifs, mol)\n",
    "ifs.close()\n",
    "\n",
    "opts = oespruce.OEMakeDesignUnitOptions()\n",
    "opts.GetSplitOptions().SetMinLigAtoms(7) # minimum fragment size (in heavy atoms)\n",
    "opts.GetPrepOptions().SetStrictProtonationMode(True)\n",
    "opts.GetPrepOptions().GetBuildOptions().SetCapNTermini(False)\n",
    "opts.GetPrepOptions().GetBuildOptions().SetCapCTermini(False)\n",
    "opts.GetPrepOptions().GetBuildOptions().SetBuildLoops(True)\n",
    "opts.GetPrepOptions().GetBuildOptions().SetBuildSidechains(True)\n",
    "opts.GetPrepOptions().GetBuildOptions().GetCapBuilderOptions().SetAllowTruncate(False)\n",
    "metadata = oespruce.OEStructureMetadata()\n",
    "\n",
    "\n",
    "dus = list(oespruce.OEMakeDesignUnits(mol, metadata, opts))\n"
   ]
  },
  {
   "cell_type": "markdown",
   "id": "e3625da2-7df8-43d7-9f9c-c830b2165f6b",
   "metadata": {},
   "source": [
    "Getting the site residues for each design unit seems to indicate that the site is different in each design unit: "
   ]
  },
  {
   "cell_type": "code",
   "execution_count": 13,
   "id": "87aa3b17-b42e-481d-9552-ce0c752e2331",
   "metadata": {},
   "outputs": [
    {
     "name": "stdout",
     "output_type": "stream",
     "text": [
      "['SER:1: :A:1: ', 'HIS:41: :B:2: ', 'TYR:54: :B:2: ', 'PHE:140: :B:2: ', 'LEU:141: :B:2: ']\n",
      "['HIS:41: :A:1: ', 'MET:49: :A:1: ', 'PHE:140: :A:1: ', 'LEU:141: :A:1: ', 'ASN:142: :A:1: ']\n"
     ]
    }
   ],
   "source": [
    "for i, du in enumerate(dus):\n",
    "    p1 = oechem.OEGraphMol()\n",
    "    l1 = oechem.OEGraphMol()    \n",
    "    du.GetLigand(l1)\n",
    "    du.GetProtein(p1)\n",
    "    \n",
    "    print(du.GetSiteResidues()[:5])\n",
    "    \n",
    "    with oechem.oemolostream(f'protein-{i}.pdb') as ofs:\n",
    "        oechem.OEWriteMolecule(ofs, oechem.OEGraphMol(p1))\n",
    "    with oechem.oemolostream(f'ligand-{i}.pdb') as ofs:\n",
    "        oechem.OEWriteMolecule(ofs, oechem.OEGraphMol(l1))"
   ]
  },
  {
   "cell_type": "markdown",
   "id": "daf339f3-7695-4d9b-a3d5-08d30c0565c6",
   "metadata": {},
   "source": [
    "however, writing out the proteins show that it's basically the same site as the physical location of the chains has changed (or the labels have changed). Below I'm showing the backbone nitrogen atom of the HIS-41:  "
   ]
  },
  {
   "cell_type": "code",
   "execution_count": 28,
   "id": "5aaa2e27-c817-4513-8f0e-8ad99b43780d",
   "metadata": {},
   "outputs": [
    {
     "name": "stdout",
     "output_type": "stream",
     "text": [
      "ATOM    303  N   HIS A  41     -27.069  -2.718  28.828  1.00 35.79           N\n",
      "ATOM   2671  N   HIS B  41      12.500 -12.615  -5.472  1.00 40.85           N\n"
     ]
    }
   ],
   "source": [
    "!grep 'ATOM.*N   HIS [AB]  41' protein-0.pdb "
   ]
  },
  {
   "cell_type": "code",
   "execution_count": 29,
   "id": "8ba7ae50-1d14-43eb-9d96-74b5a48b686a",
   "metadata": {},
   "outputs": [
    {
     "name": "stdout",
     "output_type": "stream",
     "text": [
      "ATOM    303  N   HIS A  41      12.638 -12.480  -5.591  1.00 35.79           N\n",
      "ATOM   2671  N   HIS B  41     -27.048  -2.689  28.604  1.00 40.85           N\n"
     ]
    }
   ],
   "source": [
    "!grep 'ATOM.*N   HIS [AB]  41' protein-1.pdb "
   ]
  }
 ],
 "metadata": {
  "kernelspec": {
   "display_name": "Python 3",
   "language": "python",
   "name": "python3"
  },
  "language_info": {
   "codemirror_mode": {
    "name": "ipython",
    "version": 3
   },
   "file_extension": ".py",
   "mimetype": "text/x-python",
   "name": "python",
   "nbconvert_exporter": "python",
   "pygments_lexer": "ipython3",
   "version": "3.8.8"
  }
 },
 "nbformat": 4,
 "nbformat_minor": 5
}
